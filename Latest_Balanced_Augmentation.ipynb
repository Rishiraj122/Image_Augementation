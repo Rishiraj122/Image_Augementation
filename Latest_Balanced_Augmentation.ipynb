{
 "cells": [
  {
   "cell_type": "markdown",
   "id": "3b07846c-eda5-4758-9dbf-5d0b81128260",
   "metadata": {},
   "source": [
    "# Image Augmentation\n",
    "### It takes user input for the total number of images to be produced(Augmented images and the original images). \n",
    "### Also added blending feature in augmentation."
   ]
  },
  {
   "cell_type": "code",
   "execution_count": 1,
   "id": "eedf665b",
   "metadata": {},
   "outputs": [
    {
     "name": "stderr",
     "output_type": "stream",
     "text": [
      "C:\\Users\\rishi\\anaconda3\\Lib\\site-packages\\paramiko\\pkey.py:82: CryptographyDeprecationWarning: TripleDES has been moved to cryptography.hazmat.decrepit.ciphers.algorithms.TripleDES and will be removed from this module in 48.0.0.\n",
      "  \"cipher\": algorithms.TripleDES,\n",
      "C:\\Users\\rishi\\anaconda3\\Lib\\site-packages\\paramiko\\transport.py:219: CryptographyDeprecationWarning: Blowfish has been moved to cryptography.hazmat.decrepit.ciphers.algorithms.Blowfish and will be removed from this module in 45.0.0.\n",
      "  \"class\": algorithms.Blowfish,\n",
      "C:\\Users\\rishi\\anaconda3\\Lib\\site-packages\\paramiko\\transport.py:243: CryptographyDeprecationWarning: TripleDES has been moved to cryptography.hazmat.decrepit.ciphers.algorithms.TripleDES and will be removed from this module in 48.0.0.\n",
      "  \"class\": algorithms.TripleDES,\n"
     ]
    }
   ],
   "source": [
    "import os\n",
    "import imageio\n",
    "import imgaug as ia\n",
    "from imgaug import augmenters as iaa\n",
    "from imgaug.parameters import Choice\n",
    "import numpy as np"
   ]
  },
  {
   "cell_type": "markdown",
   "id": "82162d53",
   "metadata": {},
   "source": [
    "### Enter the paths for Augmentation"
   ]
  },
  {
   "cell_type": "code",
   "execution_count": 6,
   "id": "5a47369b",
   "metadata": {},
   "outputs": [],
   "source": [
    "# Path to the directory containing the images\n",
    "base_directory = r\"D:\\Experiment_Dataset\\\"\n",
    "\n",
    "# Output directory to store augmented images\n",
    "output_directory = r\"D:\\Experiment_Dataset\\Augmented_Dataset_5_Regions\\val\"\n",
    "os.makedirs(output_directory, exist_ok=True)"
   ]
  },
  {
   "cell_type": "code",
   "execution_count": 7,
   "id": "14b67881-2598-4963-a898-5f02ba760651",
   "metadata": {
    "scrolled": true
   },
   "outputs": [
    {
     "name": "stdout",
     "output_type": "stream",
     "text": [
      "Enter the desired number of augmented images per class: 428\n"
     ]
    },
    {
     "name": "stderr",
     "output_type": "stream",
     "text": [
      "C:\\Users\\rishi\\AppData\\Local\\Temp\\ipykernel_18036\\1680201662.py:70: DeprecationWarning: Starting with ImageIO v3 the behavior of this function will switch to that of iio.v3.imread. To keep the current behavior (and make this warning disappear) use `import imageio.v2 as imageio` or call `imageio.v2.imread` directly.\n",
      "  image = imageio.imread(image_path)\n"
     ]
    },
    {
     "name": "stdout",
     "output_type": "stream",
     "text": [
      "Class: Central\n",
      "  Before augmentation: 16 images\n",
      "  After augmentation: 432 images\n",
      "\n",
      "Class: East\n",
      "  Before augmentation: 10 images\n",
      "  After augmentation: 430 images\n",
      "\n",
      "Class: North\n",
      "  Before augmentation: 69 images\n",
      "  After augmentation: 414 images\n",
      "\n",
      "Class: South\n",
      "  Before augmentation: 101 images\n",
      "  After augmentation: 404 images\n",
      "\n",
      "Class: West\n",
      "  Before augmentation: 87 images\n",
      "  After augmentation: 435 images\n",
      "\n",
      "Augmentation completed successfully!\n"
     ]
    }
   ],
   "source": [
    "# Function to get user input for the desired number of augmented images\n",
    "def get_desired_num_images():\n",
    "    while True:\n",
    "        try:\n",
    "            num_images = int(input(\"Enter the desired number of augmented images per class: \"))\n",
    "            if num_images <= 0:\n",
    "                print(\"Please enter a positive integer.\")\n",
    "                continue\n",
    "            else:\n",
    "                return num_images\n",
    "        except ValueError:\n",
    "            print(\"Invalid input. Please enter a valid integer.\")\n",
    "\n",
    "# Get a list of class (folder) names\n",
    "class_names = [name for name in os.listdir(base_directory) if os.path.isdir(os.path.join(base_directory, name))]\n",
    "\n",
    "# Define augmentations\n",
    "augmentations = [\n",
    "    iaa.ScaleX((0.5, 1.5)),\n",
    "    iaa.Affine(scale=(0.5, 1.5)),\n",
    "    iaa.Affine(rotate=(-25, 25)),\n",
    "    iaa.AdditiveGaussianNoise(scale=(10, 60)),\n",
    "    iaa.Crop(percent=(0, 0.2)),\n",
    "    iaa.PiecewiseAffine(scale=(0.01, 0.05)),\n",
    "    iaa.ElasticTransformation(alpha=(0, 5.0), sigma=0.25),\n",
    "    iaa.Rot90(1),\n",
    "    iaa.BlendAlpha(\n",
    "        factor=(0.2, 0.8),\n",
    "        foreground=iaa.Affine(rotate=(-20, 20)),\n",
    "        per_channel=True\n",
    "    ),\n",
    "    iaa.BlendAlphaSimplexNoise(\n",
    "        foreground=iaa.Multiply(Choice([0.5, 1.5]), per_channel=True)\n",
    "    )\n",
    "]\n",
    "\n",
    "\n",
    "\n",
    "# Get user input for the desired number of augmented images per class\n",
    "desired_num_images = get_desired_num_images()\n",
    "\n",
    "# Calculate the maximum number of images in any class\n",
    "max_images_count = max([len(os.listdir(os.path.join(base_directory, class_name))) for class_name in class_names])\n",
    "\n",
    "# Calculate the augmentation factor for each class\n",
    "augmentation_factors = {}\n",
    "for class_name in class_names:\n",
    "    directory_path = os.path.join(base_directory, class_name)\n",
    "    num_images = len([file for file in os.listdir(directory_path) if file.endswith(('.png', '.jpg', '.jpeg', '.bmp'))])\n",
    "    augmentation_factors[class_name] = desired_num_images / num_images\n",
    "\n",
    "# Iterate over each class (folder)\n",
    "for class_name in class_names:\n",
    "    # Construct the full path to the directory containing images for this class\n",
    "    directory_path = os.path.join(base_directory, class_name)\n",
    "    \n",
    "    # Get a list of files (images) in the class directory\n",
    "    image_files = [file for file in os.listdir(directory_path) if file.endswith(('.png', '.jpg', '.jpeg', '.bmp'))]\n",
    "    \n",
    "    # Create a directory to store augmented images for this class\n",
    "    class_output_directory = os.path.join(output_directory, class_name)\n",
    "    os.makedirs(class_output_directory, exist_ok=True)\n",
    "    \n",
    "    # Iterate over each image file in the class directory\n",
    "    for filename in image_files:\n",
    "        # Construct the full path to the image file\n",
    "        image_path = os.path.join(directory_path, filename)\n",
    "\n",
    "        # Load the image using imageio\n",
    "        image = imageio.imread(image_path)\n",
    "\n",
    "        # Determine the number of augmentations to apply to this image\n",
    "        num_augmentations = round(augmentation_factors[class_name])\n",
    "\n",
    "        # Perform and save each augmentation individually\n",
    "        for i in range(num_augmentations):\n",
    "            selected_augmentation = augmentations[i % len(augmentations)]\n",
    "            augmented_image = selected_augmentation(image=image)\n",
    "            output_filename = os.path.splitext(filename)[0] + f\"_aug{i}\" + os.path.splitext(filename)[1]\n",
    "            output_path = os.path.join(class_output_directory, output_filename)\n",
    "            imageio.imwrite(output_path, augmented_image)\n",
    "\n",
    "# Print the number of images before and after augmentation for each class\n",
    "for class_name in class_names:\n",
    "    directory_path = os.path.join(base_directory, class_name)\n",
    "    num_images_before = len([file for file in os.listdir(directory_path) if file.endswith(('.png', '.jpg', '.jpeg', '.bmp'))])\n",
    "    directory_path = os.path.join(output_directory, class_name)\n",
    "    num_images_after = len([file for file in os.listdir(directory_path) if file.endswith(('.png', '.jpg', '.jpeg', '.bmp'))])\n",
    "    print(f\"Class: {class_name}\")\n",
    "    print(f\"  Before augmentation: {num_images_before} images\")\n",
    "    print(f\"  After augmentation: {num_images_after} images\")\n",
    "    print()\n",
    "\n",
    "print(\"Augmentation completed successfully!\")"
   ]
  },
  {
   "cell_type": "markdown",
   "id": "14c25683",
   "metadata": {},
   "source": [
    "### Enter the path to store after splitting"
   ]
  },
  {
   "cell_type": "code",
   "execution_count": 9,
   "id": "cf363b95",
   "metadata": {},
   "outputs": [],
   "source": [
    "# # Define input folder path containing class folders with images\n",
    "# # The output_directory is the directory made after augmentation.\n",
    "# input_folder = output_directory\n",
    "\n",
    "# # Define output folder path for the split dataset\n",
    "# output_folder = 'D:\\Augmented_Cattle_Breeds_Update_split'"
   ]
  },
  {
   "cell_type": "code",
   "execution_count": 10,
   "id": "39477b19",
   "metadata": {},
   "outputs": [
    {
     "name": "stdout",
     "output_type": "stream",
     "text": [
      "Splitting completed successfully!\n"
     ]
    }
   ],
   "source": [
    "# import os\n",
    "# import shutil\n",
    "# from sklearn.model_selection import train_test_split\n",
    "\n",
    "\n",
    "# # Create output folder if it doesn't exist\n",
    "# os.makedirs(output_folder, exist_ok=True)\n",
    "\n",
    "# # Get list of class folders\n",
    "# class_folders = [folder for folder in os.listdir(input_folder) if os.path.isdir(os.path.join(input_folder, folder))]\n",
    "\n",
    "# # Define train, test, and validation ratios\n",
    "# train_ratio = 0.7\n",
    "# test_ratio = 0.15\n",
    "# val_ratio = 0.15\n",
    "\n",
    "# # Iterate over each class folder\n",
    "# for class_folder in class_folders:\n",
    "#     # Construct the full path to the class folder\n",
    "#     class_folder_path = os.path.join(input_folder, class_folder)\n",
    "    \n",
    "#     # Get list of image files in the class folder\n",
    "#     image_files = [f for f in os.listdir(class_folder_path) if os.path.isfile(os.path.join(class_folder_path, f))]\n",
    "    \n",
    "#     # Skip splitting if there is only one sample\n",
    "#     if len(image_files) <= 1:\n",
    "#         print(f\"Skipping splitting for class {class_folder} as it contains only one sample.\")\n",
    "#         continue\n",
    "    \n",
    "#     # Split image files into train, test, and validation sets\n",
    "#     train_files, test_val_files = train_test_split(image_files, test_size=(test_ratio + val_ratio), random_state=1234)\n",
    "#     test_files, val_files = train_test_split(test_val_files, test_size=(val_ratio / (test_ratio + val_ratio)), random_state=1234)\n",
    "    \n",
    "#     # Create corresponding folders in the output directory for train, test, and validation\n",
    "#     train_class_folder = os.path.join(output_folder, 'train', class_folder)\n",
    "#     test_class_folder = os.path.join(output_folder, 'test', class_folder)\n",
    "#     val_class_folder = os.path.join(output_folder, 'val', class_folder)\n",
    "    \n",
    "#     os.makedirs(train_class_folder, exist_ok=True)\n",
    "#     os.makedirs(test_class_folder, exist_ok=True)\n",
    "#     os.makedirs(val_class_folder, exist_ok=True)\n",
    "    \n",
    "#     # Function to copy images from source to destination folder\n",
    "#     def copy_images(source_files, destination_folder):\n",
    "#         for file in source_files:\n",
    "#             src = os.path.join(class_folder_path, file)\n",
    "#             dst = os.path.join(destination_folder, file)\n",
    "#             shutil.copyfile(src, dst)\n",
    "    \n",
    "#     # Copy images to train, test, and validation folders\n",
    "#     copy_images(train_files, train_class_folder)\n",
    "#     copy_images(test_files, test_class_folder)\n",
    "#     copy_images(val_files, val_class_folder)\n",
    "\n",
    "# print(\"Splitting completed successfully!\")"
   ]
  },
  {
   "cell_type": "code",
   "execution_count": null,
   "id": "3ed8a7ea",
   "metadata": {},
   "outputs": [],
   "source": []
  }
 ],
 "metadata": {
  "kernelspec": {
   "display_name": "Python 3 (ipykernel)",
   "language": "python",
   "name": "python3"
  },
  "language_info": {
   "codemirror_mode": {
    "name": "ipython",
    "version": 3
   },
   "file_extension": ".py",
   "mimetype": "text/x-python",
   "name": "python",
   "nbconvert_exporter": "python",
   "pygments_lexer": "ipython3",
   "version": "3.11.5"
  }
 },
 "nbformat": 4,
 "nbformat_minor": 5
}
